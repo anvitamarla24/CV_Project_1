{
 "cells": [
  {
   "cell_type": "code",
   "execution_count": 21,
   "metadata": {},
   "outputs": [],
   "source": [
    "import cv2\n",
    "import numpy as np\n",
    "from numpy import pi, exp, sqrt\n",
    "import matplotlib.pyplot as plt\n",
    "%matplotlib inline\n"
   ]
  },
  {
   "cell_type": "code",
   "execution_count": 26,
   "metadata": {},
   "outputs": [
    {
     "data": {
      "text/plain": [
       "numpy.ndarray"
      ]
     },
     "execution_count": 26,
     "metadata": {},
     "output_type": "execute_result"
    }
   ],
   "source": [
    "# img = cv2.imread('puppy.jpg', 0)\n",
    "# im = np.array(img, dtype=float)\n",
    "# plt.show(img)\n",
    "# # plt.imshow(im)\n",
    "\n",
    "# im = np.array(Image.open('kitty.jpg'),dtype= int)\n",
    "# print(im.shape)\n",
    "\n",
    "\n",
    "\n",
    "img = cv2.imread(\"kitty.jpg\", 0)\n",
    "im = np.array(img, dtype=float)\n",
    "type(im)\n",
    "print(im)\n"
   ]
  },
  {
   "cell_type": "code",
   "execution_count": 29,
   "metadata": {},
   "outputs": [
    {
     "name": "stdout",
     "output_type": "stream",
     "text": [
      "[[ 1  1  2  2  2  1  1]\n",
      " [ 1  2  2  4  2  2  1]\n",
      " [ 2  2  4  8  4  2  2]\n",
      " [ 2  4  8 16  8  4  2]\n",
      " [ 2  2  4  8  4  2  2]\n",
      " [ 1  2  2  4  2  2  1]\n",
      " [ 1  1  2  2  2  1  1]]\n"
     ]
    }
   ],
   "source": [
    "guassian_mask = np.array([[1,1,2,2,2,1,1],[1,2,2,4,2,2,1],[2,2,4,8,4,2,2],[2,4,8,16,8,4,2],[2,2,4,8,4,2,2],[1,2,2,4,2,2,1],[1,1,2,2,2,1,1]])\n",
    "print(guassian_mask)\n",
    "\n"
   ]
  },
  {
   "cell_type": "code",
   "execution_count": null,
   "metadata": {},
   "outputs": [],
   "source": [
    "height = img.shape[0]\n",
    "width = img.shape[1]\n",
    "\n",
    "gauss = (1.0/57) * np.array(\n",
    "        [[0, 1, 2, 1, 0],\n",
    "        [1, 3, 5, 3, 1],\n",
    "        [2, 5, 9, 5, 2],\n",
    "        [1, 3, 5, 3, 1],\n",
    "        [0, 1, 2, 1, 0]])\n",
    "sum(sum(gauss))\n",
    "\n",
    "for i in np.arange(2, height-2):\n",
    "    for j in np.arange(2, width-2):        \n",
    "        sum = 0\n",
    "        for k in np.arange(-2, 3):\n",
    "            for l in np.arange(-2, 3):\n",
    "                a = img.item(i+k, j+l)\n",
    "                p = gauss[2+k, 2+l]\n",
    "                sum = sum + (p * a)\n",
    "        b = sum\n",
    "        img_out.itemset((i,j), b)\n",
    "\n",
    "cv2.imwrite('images/filter_gauss.jpg', img_out)\n",
    "\n",
    "cv2.imshow('image',img_out)\n",
    "cv2.waitKey(0)\n",
    "cv2.destroyAllWindows()"
   ]
  },
  {
   "cell_type": "code",
   "execution_count": null,
   "metadata": {},
   "outputs": [],
   "source": [
    "s, k = 1, 2 #  generate a (2k+1)x(2k+1) gaussian kernel with mean=0 and sigma = s\n",
    "probs = [exp(-z*z/(2*s*s))/sqrt(2*pi*s*s) for z in range(-k,k+1)] \n",
    "kernel = np.outer(probs, probs)\n",
    "print(kernel)\n",
    "\n",
    "plt.imshow(kernel)\n",
    "plt.colorbar()\n",
    "plt.show()"
   ]
  }
 ],
 "metadata": {
  "kernelspec": {
   "display_name": "Python 3",
   "language": "python",
   "name": "python3"
  },
  "language_info": {
   "codemirror_mode": {
    "name": "ipython",
    "version": 3
   },
   "file_extension": ".py",
   "mimetype": "text/x-python",
   "name": "python",
   "nbconvert_exporter": "python",
   "pygments_lexer": "ipython3",
   "version": "3.6.5"
  }
 },
 "nbformat": 4,
 "nbformat_minor": 2
}
